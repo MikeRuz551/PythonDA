{
  "cells": [
    {
      "cell_type": "markdown",
      "metadata": {
        "id": "view-in-github",
        "colab_type": "text"
      },
      "source": [
        "<a href=\"https://colab.research.google.com/github/MikeRuz551/PythonDA/blob/main/01_Symbolic_mathematics_with_Sympy_SM.ipynb\" target=\"_parent\"><img src=\"https://colab.research.google.com/assets/colab-badge.svg\" alt=\"Open In Colab\"/></a>"
      ]
    },
    {
      "cell_type": "markdown",
      "metadata": {
        "id": "ynDGv1zWpbS9"
      },
      "source": [
        "# Символьная математика с Sympy\n",
        "\n",
        "[Sympy](http://www.sympy.org/en/index.html) описывается как:\n",
        "\n",
        "> \"... Python library for symbolic mathematics.\"\n",
        "\n",
        "Это означает, что `Sympy` можно использовать для:\n",
        "\n",
        "- Работа с символическими выражениями;\n",
        "- Решать символьные уравнения;\n",
        "- Проводить символическое исчисление;\n",
        "- Построение символьной графики.\n",
        "\n",
        "Подробнее о возможностях `Sympy` можно прочитать здесь: http://www.sympy.org/en/index.html.\n",
        "\n",
        "## Работа с символическими выражениями\n",
        "\n",
        "Импортируем библиотеку `Sympy`."
      ]
    },
    {
      "cell_type": "code",
      "execution_count": 2,
      "metadata": {
        "id": "Q9zsEu-_pbS_"
      },
      "outputs": [],
      "source": [
        "import sympy as sym"
      ]
    },
    {
      "cell_type": "markdown",
      "metadata": {
        "id": "KcMpGeoupbTA"
      },
      "source": [
        "Импорт библиотеки дает доступ к ее командам, используя сокращение `sym`.\n",
        "\n",
        "При  попытке проверки выражения $x - x = 0$, получим ошибку, если предварительно не описать в Python переменную $x$."
      ]
    },
    {
      "cell_type": "markdown",
      "metadata": {
        "id": "8ePCCMHFpbTA"
      },
      "source": [
        "Здесь на помощь приходит `Sympy`: мы можем указать Python создать $x$ в качестве символьной переменной:"
      ]
    },
    {
      "cell_type": "code",
      "execution_count": 3,
      "metadata": {
        "id": "dJ_UpEeKpbTB"
      },
      "outputs": [],
      "source": [
        "x = sym.symbols('x')"
      ]
    },
    {
      "cell_type": "markdown",
      "metadata": {
        "id": "TlRXTadbpbTB"
      },
      "source": [
        "Теперь мы можем вычислить $x - x$:"
      ]
    },
    {
      "cell_type": "code",
      "execution_count": 4,
      "metadata": {
        "id": "-N3MmA6dpbTB",
        "colab": {
          "base_uri": "https://localhost:8080/",
          "height": 37
        },
        "outputId": "80619f9d-8a16-41d9-aa80-d1be8cef90da"
      },
      "outputs": [
        {
          "output_type": "execute_result",
          "data": {
            "text/plain": [
              "0"
            ],
            "text/latex": "$\\displaystyle 0$"
          },
          "metadata": {},
          "execution_count": 4
        }
      ],
      "source": [
        "x - x"
      ]
    },
    {
      "cell_type": "markdown",
      "metadata": {
        "id": "4KNxPlZzpbTB"
      },
      "source": [
        "Мы можем создавать выражения и манипулировать ими в Sympy. Давайте, например, проверим:\n",
        "\n",
        "$$(a + b) ^ 2 = а ^ 2 + 2ab + b ^2$$\n",
        "\n",
        "Сначала мы создаем символьные переменные $a, b$:"
      ]
    },
    {
      "cell_type": "code",
      "execution_count": 6,
      "metadata": {
        "id": "rep2HMOfpbTB"
      },
      "outputs": [],
      "source": [
        "a, b = sym.symbols('a, b')"
      ]
    },
    {
      "cell_type": "markdown",
      "metadata": {
        "id": "evR9bjLCpbTC"
      },
      "source": [
        "Теперь давайте создадим наше выражение:"
      ]
    },
    {
      "cell_type": "code",
      "execution_count": 7,
      "metadata": {
        "id": "ErtTcP-GpbTC",
        "colab": {
          "base_uri": "https://localhost:8080/",
          "height": 40
        },
        "outputId": "ed54b65e-3431-4cb8-9da5-0166a7280430"
      },
      "outputs": [
        {
          "output_type": "execute_result",
          "data": {
            "text/plain": [
              "(a + b)**2"
            ],
            "text/latex": "$\\displaystyle \\left(a + b\\right)^{2}$"
          },
          "metadata": {},
          "execution_count": 7
        }
      ],
      "source": [
        "expr = (a + b) ** 2\n",
        "expr"
      ]
    },
    {
      "cell_type": "markdown",
      "metadata": {
        "id": "wF7bYlwQpbTC"
      },
      "source": [
        "**Примечание**  в `Sympy` можно использовать LaTeX-разметку, чтобы результат выглядел в более удобно читаемом виде:"
      ]
    },
    {
      "cell_type": "code",
      "execution_count": 8,
      "metadata": {
        "id": "S-P3cxFwpbTC"
      },
      "outputs": [],
      "source": [
        "sym.init_printing()"
      ]
    },
    {
      "cell_type": "code",
      "execution_count": 14,
      "metadata": {
        "id": "OK6rrHQspbTC",
        "colab": {
          "base_uri": "https://localhost:8080/",
          "height": 40
        },
        "outputId": "9e947da6-d9cd-459d-ffb5-bc5465c964c4"
      },
      "outputs": [
        {
          "output_type": "execute_result",
          "data": {
            "text/plain": [
              "       2\n",
              "(a + b) "
            ],
            "text/latex": "$\\displaystyle \\left(a + b\\right)^{2}$"
          },
          "metadata": {},
          "execution_count": 14
        }
      ],
      "source": [
        "expr"
      ]
    },
    {
      "cell_type": "markdown",
      "metadata": {
        "id": "JA9ZWS9rpbTC"
      },
      "source": [
        "Раскроем скобки в выражении:"
      ]
    },
    {
      "cell_type": "code",
      "execution_count": 13,
      "metadata": {
        "id": "mkxn3npUpbTC",
        "colab": {
          "base_uri": "https://localhost:8080/",
          "height": 39
        },
        "outputId": "6c94b374-b04c-4ecd-c354-490c235df45d"
      },
      "outputs": [
        {
          "output_type": "execute_result",
          "data": {
            "text/plain": [
              " 2            2\n",
              "a  + 2⋅a⋅b + b "
            ],
            "text/latex": "$\\displaystyle a^{2} + 2 a b + b^{2}$"
          },
          "metadata": {},
          "execution_count": 13
        }
      ],
      "source": [
        "expr.expand()"
      ]
    },
    {
      "cell_type": "markdown",
      "metadata": {
        "id": "sgQwmsvLpbTC"
      },
      "source": [
        "Обратите внимание, что  в `Sympy` можно создать код LaTeX для дальнейшего применения:"
      ]
    },
    {
      "cell_type": "code",
      "execution_count": 12,
      "metadata": {
        "id": "GRVdzYqxpbTD",
        "colab": {
          "base_uri": "https://localhost:8080/",
          "height": 36
        },
        "outputId": "4f70d02e-5bf9-4687-9414-524dc018fc3a"
      },
      "outputs": [
        {
          "output_type": "execute_result",
          "data": {
            "text/plain": [
              "'a^{2} + 2 a b + b^{2}'"
            ],
            "application/vnd.google.colaboratory.intrinsic+json": {
              "type": "string"
            }
          },
          "metadata": {},
          "execution_count": 12
        }
      ],
      "source": [
        "sym.latex(expr.expand())"
      ]
    },
    {
      "cell_type": "markdown",
      "metadata": {
        "id": "vyGwee5TpbTD"
      },
      "source": [
        "---\n",
        "**УПРАЖНЕНИЕ 1** Используйте Sympy, чтобы проверить следующие выражения:\n",
        "\n",
        "- $(a - b) ^ 2 = a ^ 2 - 2 a b + b^2$\n",
        "- $a ^ 2 - b ^ 2 = (a - b) (a + b)$ (вместо использования `expand` попробуйте `factor`)"
      ]
    },
    {
      "cell_type": "code",
      "source": [
        "a, b = sym.symbols('a b')\n",
        "\n",
        "expr = (a - b) ** 2\n",
        "expr.expand()"
      ],
      "metadata": {
        "colab": {
          "base_uri": "https://localhost:8080/",
          "height": 39
        },
        "id": "DuBK6dHhzZfp",
        "outputId": "9339174b-2316-47cf-e73e-3fbb3b4849f4"
      },
      "execution_count": 33,
      "outputs": [
        {
          "output_type": "execute_result",
          "data": {
            "text/plain": [
              " 2            2\n",
              "a  - 2⋅a⋅b + b "
            ],
            "text/latex": "$\\displaystyle a^{2} - 2 a b + b^{2}$"
          },
          "metadata": {},
          "execution_count": 33
        }
      ]
    },
    {
      "cell_type": "code",
      "source": [
        "expr3 = a ** 2 - b ** 2\n",
        "expr3.factor()"
      ],
      "metadata": {
        "colab": {
          "base_uri": "https://localhost:8080/",
          "height": 39
        },
        "id": "rTwWsyen4WRU",
        "outputId": "ef0c0ae5-8ceb-44f2-a181-24b295102ee2"
      },
      "execution_count": 32,
      "outputs": [
        {
          "output_type": "execute_result",
          "data": {
            "text/plain": [
              "(a - b)⋅(a + b)"
            ],
            "text/latex": "$\\displaystyle \\left(a - b\\right) \\left(a + b\\right)$"
          },
          "metadata": {},
          "execution_count": 32
        }
      ]
    },
    {
      "cell_type": "markdown",
      "metadata": {
        "id": "UPOKWIr1pbTD"
      },
      "source": [
        "## Решение символьных уравнений"
      ]
    },
    {
      "cell_type": "markdown",
      "metadata": {
        "id": "YK7DxzxapbTD"
      },
      "source": [
        "Мы можем использовать `Sympy` для решения символьных выражений. Например, найдем неизвестное $x$ квадратного уравнения:\n",
        "$$a x ^ 2 + b x + c = 0$$"
      ]
    },
    {
      "cell_type": "code",
      "execution_count": 23,
      "metadata": {
        "id": "2R08lHoVpbTD"
      },
      "outputs": [],
      "source": [
        "a, b, c, x = sym.symbols('a, b, c, x')"
      ]
    },
    {
      "cell_type": "markdown",
      "metadata": {
        "id": "6oCqUBL1pbTD"
      },
      "source": [
        "Команда в `Sympy` для решения уравнений — `solveset`. Первый аргумент — это выражение, для которого будет найден корень. Второй аргумент — это значение, которое мы ищем."
      ]
    },
    {
      "cell_type": "code",
      "execution_count": 24,
      "metadata": {
        "id": "mKoa2guKpbTD",
        "colab": {
          "base_uri": "https://localhost:8080/",
          "height": 68
        },
        "outputId": "14da9656-ccd1-4f1a-f7e2-4ddd2c2fa75f"
      },
      "outputs": [
        {
          "output_type": "execute_result",
          "data": {
            "text/plain": [
              "⎧           _____________             _____________⎫\n",
              "⎪          ╱           2             ╱           2 ⎪\n",
              "⎨   b    ╲╱  -4⋅a⋅c + b       b    ╲╱  -4⋅a⋅c + b  ⎬\n",
              "⎪- ─── - ────────────────, - ─── + ────────────────⎪\n",
              "⎩  2⋅a         2⋅a           2⋅a         2⋅a       ⎭"
            ],
            "text/latex": "$\\displaystyle \\left\\{- \\frac{b}{2 a} - \\frac{\\sqrt{- 4 a c + b^{2}}}{2 a}, - \\frac{b}{2 a} + \\frac{\\sqrt{- 4 a c + b^{2}}}{2 a}\\right\\}$"
          },
          "metadata": {},
          "execution_count": 24
        }
      ],
      "source": [
        "sym.solveset(a * x ** 2 + b * x + c, x)"
      ]
    },
    {
      "cell_type": "markdown",
      "metadata": {
        "id": "Lhw5nbeEpbTD"
      },
      "source": [
        "---\n",
        "** УПРАЖНЕНИЕ 2** Используйте Sympy, чтобы найти решения обобщенного кубического уравнения:\n",
        "\n",
        "$$a x ^ 3 + b x ^ 2 + c  x + d = 0$$\n",
        "\n",
        "---"
      ]
    },
    {
      "cell_type": "code",
      "source": [
        "a, b, c, x, d = sym.symbols('a, b, c, x, d')\n",
        "sym.solveset(a * x ** 3 + b *x**2 + c*x+d,x)"
      ],
      "metadata": {
        "colab": {
          "base_uri": "https://localhost:8080/",
          "height": 149
        },
        "id": "j7RGy54A3Cpn",
        "outputId": "974c1f80-2e04-4ecd-fcee-359ff3721a23"
      },
      "execution_count": 60,
      "outputs": [
        {
          "output_type": "execute_result",
          "data": {
            "text/plain": [
              "⎧                                                                             \n",
              "⎪                                                                             \n",
              "⎪                                                                             \n",
              "⎪                                                                             \n",
              "⎪                                                                             \n",
              "⎪                                                                             \n",
              "⎪                                                 2                           \n",
              "⎪                                          3⋅c   b                            \n",
              "⎪                                        - ─── + ──                           \n",
              "⎪                                           a     2                           \n",
              "⎪                                                a                            \n",
              "⎨- ───────────────────────────────────────────────────────────────────────────\n",
              "⎪               ______________________________________________________________\n",
              "⎪              ╱        ____________________________________________          \n",
              "⎪             ╱        ╱                 3                        2           \n",
              "⎪            ╱        ╱      ⎛         2⎞    ⎛                  3⎞            \n",
              "⎪           ╱        ╱       ⎜  3⋅c   b ⎟    ⎜27⋅d   9⋅b⋅c   2⋅b ⎟            \n",
              "⎪          ╱        ╱    - 4⋅⎜- ─── + ──⎟  + ⎜──── - ───── + ────⎟            \n",
              "⎪         ╱        ╱         ⎜   a     2⎟    ⎜ a        2      3 ⎟            \n",
              "⎪        ╱       ╲╱          ⎝        a ⎠    ⎝         a      a  ⎠     27⋅d   \n",
              "⎪  3⋅   ╱        ─────────────────────────────────────────────────── + ──── - \n",
              "⎪    3 ╱                                  2                            2⋅a    \n",
              "⎩    ╲╱                                                                       \n",
              "\n",
              "                         _____________________________________________________\n",
              "                        ╱        ____________________________________________ \n",
              "                       ╱        ╱                 3                        2  \n",
              "                      ╱        ╱      ⎛         2⎞    ⎛                  3⎞   \n",
              "                     ╱        ╱       ⎜  3⋅c   b ⎟    ⎜27⋅d   9⋅b⋅c   2⋅b ⎟   \n",
              "                    ╱        ╱    - 4⋅⎜- ─── + ──⎟  + ⎜──── - ───── + ────⎟   \n",
              "                   ╱        ╱         ⎜   a     2⎟    ⎜ a        2      3 ⎟   \n",
              "                  ╱       ╲╱          ⎝        a ⎠    ⎝         a      a  ⎠   \n",
              "                 ╱        ─────────────────────────────────────────────────── \n",
              "              3 ╱                                  2                          \n",
              "              ╲╱                                                              \n",
              "─────────── - ────────────────────────────────────────────────────────────────\n",
              "___________                                            3                      \n",
              "                                                                              \n",
              "                                                                              \n",
              "                                                                              \n",
              "                                                                              \n",
              "                                                                              \n",
              "         3                                                                    \n",
              "9⋅b⋅c   b                                                                     \n",
              "───── + ──                                                                    \n",
              "    2    3                                                                    \n",
              " 2⋅a    a                                                                     \n",
              "\n",
              "____________________                                                          \n",
              "                                                                              \n",
              "                                                                              \n",
              "                                                                              \n",
              "                                                                              \n",
              "                                                                              \n",
              "                  3                                                           \n",
              "  27⋅d   9⋅b⋅c   b                                                           3\n",
              "+ ──── - ───── + ──                                                        - ─\n",
              "  2⋅a        2    3                                                           \n",
              "          2⋅a    a      b                                                     \n",
              "──────────────────── - ───, - ────────────────────────────────────────────────\n",
              "                       3⋅a                              ______________________\n",
              "                                                       ╱        ______________\n",
              "                                                      ╱        ╱              \n",
              "                                                     ╱        ╱      ⎛        \n",
              "                                                    ╱        ╱       ⎜  3⋅c   \n",
              "                                                   ╱        ╱    - 4⋅⎜- ─── + \n",
              "                                                  ╱        ╱         ⎜   a    \n",
              "                                ⎛  1   √3⋅ⅈ⎞     ╱       ╲╱          ⎝        \n",
              "                              3⋅⎜- ─ - ────⎟⋅   ╱        ─────────────────────\n",
              "                                ⎝  2    2  ⎠ 3 ╱                              \n",
              "                                             ╲╱                               \n",
              "\n",
              "                                                                              \n",
              "                                                                             ╱\n",
              "                                                                            ╱ \n",
              "                                                                           ╱  \n",
              "                                                                          ╱   \n",
              "                                                                         ╱    \n",
              "      2                                                                 ╱     \n",
              "⋅c   b                                                ⎛  1   √3⋅ⅈ⎞     ╱      \n",
              "── + ──                                               ⎜- ─ - ────⎟⋅   ╱       \n",
              "a     2                                               ⎝  2    2  ⎠ 3 ╱        \n",
              "     a                                                             ╲╱         \n",
              "─────────────────────────────────────────────────── - ────────────────────────\n",
              "___________________________________________________                           \n",
              "______________________________                                                \n",
              "   3                        2                                                 \n",
              " 2⎞    ⎛                  3⎞                                                  \n",
              "b ⎟    ⎜27⋅d   9⋅b⋅c   2⋅b ⎟                                                  \n",
              "──⎟  + ⎜──── - ───── + ────⎟                                                  \n",
              " 2⎟    ⎜ a        2      3 ⎟                     3                            \n",
              "a ⎠    ⎝         a      a  ⎠     27⋅d   9⋅b⋅c   b                             \n",
              "────────────────────────────── + ──── - ───── + ──                            \n",
              "    2                            2⋅a        2    3                            \n",
              "                                         2⋅a    a                             \n",
              "\n",
              "_________________________________________________________________________     \n",
              "        ____________________________________________                          \n",
              "       ╱                 3                        2                           \n",
              "      ╱      ⎛         2⎞    ⎛                  3⎞                            \n",
              "     ╱       ⎜  3⋅c   b ⎟    ⎜27⋅d   9⋅b⋅c   2⋅b ⎟                            \n",
              "    ╱    - 4⋅⎜- ─── + ──⎟  + ⎜──── - ───── + ────⎟                            \n",
              "   ╱         ⎜   a     2⎟    ⎜ a        2      3 ⎟                     3      \n",
              " ╲╱          ⎝        a ⎠    ⎝         a      a  ⎠     27⋅d   9⋅b⋅c   b       \n",
              " ─────────────────────────────────────────────────── + ──── - ───── + ──      \n",
              "                          2                            2⋅a        2    3      \n",
              "                                                               2⋅a    a      b\n",
              "───────────────────────────────────────────────────────────────────────── - ──\n",
              "                        3                                                   3⋅\n",
              "                                                                              \n",
              "                                                                              \n",
              "                                                                              \n",
              "                                                                              \n",
              "                                                                              \n",
              "                                                                              \n",
              "                                                                              \n",
              "                                                                              \n",
              "                                                                              \n",
              "                                                                              \n",
              "\n",
              "                                                                              \n",
              "                                                                              \n",
              "                                                                              \n",
              "                                                                              \n",
              "                                                                              \n",
              "                                                                              \n",
              "                                                           2                  \n",
              "                                                    3⋅c   b                   \n",
              "                                                  - ─── + ──                  \n",
              "                                                     a     2                  \n",
              "                                                          a                   \n",
              "─, - ─────────────────────────────────────────────────────────────────────────\n",
              "a                              _______________________________________________\n",
              "                              ╱        _______________________________________\n",
              "                             ╱        ╱                 3                     \n",
              "                            ╱        ╱      ⎛         2⎞    ⎛                 \n",
              "                           ╱        ╱       ⎜  3⋅c   b ⎟    ⎜27⋅d   9⋅b⋅c   2⋅\n",
              "                          ╱        ╱    - 4⋅⎜- ─── + ──⎟  + ⎜──── - ───── + ──\n",
              "                         ╱        ╱         ⎜   a     2⎟    ⎜ a        2      \n",
              "       ⎛  1   √3⋅ⅈ⎞     ╱       ╲╱          ⎝        a ⎠    ⎝         a      a\n",
              "     3⋅⎜- ─ + ────⎟⋅   ╱        ──────────────────────────────────────────────\n",
              "       ⎝  2    2  ⎠ 3 ╱                                  2                    \n",
              "                    ╲╱                                                        \n",
              "\n",
              "                                                     _________________________\n",
              "                                                    ╱        _________________\n",
              "                                                   ╱        ╱                 \n",
              "                                                  ╱        ╱      ⎛         2⎞\n",
              "                                                 ╱        ╱       ⎜  3⋅c   b ⎟\n",
              "                                                ╱        ╱    - 4⋅⎜- ─── + ──⎟\n",
              "                                               ╱        ╱         ⎜   a     2⎟\n",
              "                             ⎛  1   √3⋅ⅈ⎞     ╱       ╲╱          ⎝        a ⎠\n",
              "                             ⎜- ─ + ────⎟⋅   ╱        ────────────────────────\n",
              "                             ⎝  2    2  ⎠ 3 ╱                                 \n",
              "                                          ╲╱                                  \n",
              "────────────────────────── - ─────────────────────────────────────────────────\n",
              "__________________________                                                   3\n",
              "_____                                                                         \n",
              "   2                                                                          \n",
              " 3⎞                                                                           \n",
              "b ⎟                                                                           \n",
              "──⎟                                                                           \n",
              "3 ⎟                     3                                                     \n",
              "  ⎠     27⋅d   9⋅b⋅c   b                                                      \n",
              "───── + ──── - ───── + ──                                                     \n",
              "        2⋅a        2    3                                                     \n",
              "                2⋅a    a                                                      \n",
              "\n",
              "________________________________________________      ⎫\n",
              "___________________________                           ⎪\n",
              "3                        2                            ⎪\n",
              "    ⎛                  3⎞                             ⎪\n",
              "    ⎜27⋅d   9⋅b⋅c   2⋅b ⎟                             ⎪\n",
              "  + ⎜──── - ───── + ────⎟                             ⎪\n",
              "    ⎜ a        2      3 ⎟                     3       ⎪\n",
              "    ⎝         a      a  ⎠     27⋅d   9⋅b⋅c   b        ⎪\n",
              "─────────────────────────── + ──── - ───── + ──       ⎪\n",
              " 2                            2⋅a        2    3       ⎪\n",
              "                                      2⋅a    a      b ⎪\n",
              "──────────────────────────────────────────────── - ───⎬\n",
              "                                                   3⋅a⎪\n",
              "                                                      ⎪\n",
              "                                                      ⎪\n",
              "                                                      ⎪\n",
              "                                                      ⎪\n",
              "                                                      ⎪\n",
              "                                                      ⎪\n",
              "                                                      ⎪\n",
              "                                                      ⎪\n",
              "                                                      ⎪\n",
              "                                                      ⎭"
            ],
            "text/latex": "$\\displaystyle \\left\\{- \\frac{- \\frac{3 c}{a} + \\frac{b^{2}}{a^{2}}}{3 \\sqrt[3]{\\frac{\\sqrt{- 4 \\left(- \\frac{3 c}{a} + \\frac{b^{2}}{a^{2}}\\right)^{3} + \\left(\\frac{27 d}{a} - \\frac{9 b c}{a^{2}} + \\frac{2 b^{3}}{a^{3}}\\right)^{2}}}{2} + \\frac{27 d}{2 a} - \\frac{9 b c}{2 a^{2}} + \\frac{b^{3}}{a^{3}}}} - \\frac{\\sqrt[3]{\\frac{\\sqrt{- 4 \\left(- \\frac{3 c}{a} + \\frac{b^{2}}{a^{2}}\\right)^{3} + \\left(\\frac{27 d}{a} - \\frac{9 b c}{a^{2}} + \\frac{2 b^{3}}{a^{3}}\\right)^{2}}}{2} + \\frac{27 d}{2 a} - \\frac{9 b c}{2 a^{2}} + \\frac{b^{3}}{a^{3}}}}{3} - \\frac{b}{3 a}, - \\frac{- \\frac{3 c}{a} + \\frac{b^{2}}{a^{2}}}{3 \\left(- \\frac{1}{2} - \\frac{\\sqrt{3} i}{2}\\right) \\sqrt[3]{\\frac{\\sqrt{- 4 \\left(- \\frac{3 c}{a} + \\frac{b^{2}}{a^{2}}\\right)^{3} + \\left(\\frac{27 d}{a} - \\frac{9 b c}{a^{2}} + \\frac{2 b^{3}}{a^{3}}\\right)^{2}}}{2} + \\frac{27 d}{2 a} - \\frac{9 b c}{2 a^{2}} + \\frac{b^{3}}{a^{3}}}} - \\frac{\\left(- \\frac{1}{2} - \\frac{\\sqrt{3} i}{2}\\right) \\sqrt[3]{\\frac{\\sqrt{- 4 \\left(- \\frac{3 c}{a} + \\frac{b^{2}}{a^{2}}\\right)^{3} + \\left(\\frac{27 d}{a} - \\frac{9 b c}{a^{2}} + \\frac{2 b^{3}}{a^{3}}\\right)^{2}}}{2} + \\frac{27 d}{2 a} - \\frac{9 b c}{2 a^{2}} + \\frac{b^{3}}{a^{3}}}}{3} - \\frac{b}{3 a}, - \\frac{- \\frac{3 c}{a} + \\frac{b^{2}}{a^{2}}}{3 \\left(- \\frac{1}{2} + \\frac{\\sqrt{3} i}{2}\\right) \\sqrt[3]{\\frac{\\sqrt{- 4 \\left(- \\frac{3 c}{a} + \\frac{b^{2}}{a^{2}}\\right)^{3} + \\left(\\frac{27 d}{a} - \\frac{9 b c}{a^{2}} + \\frac{2 b^{3}}{a^{3}}\\right)^{2}}}{2} + \\frac{27 d}{2 a} - \\frac{9 b c}{2 a^{2}} + \\frac{b^{3}}{a^{3}}}} - \\frac{\\left(- \\frac{1}{2} + \\frac{\\sqrt{3} i}{2}\\right) \\sqrt[3]{\\frac{\\sqrt{- 4 \\left(- \\frac{3 c}{a} + \\frac{b^{2}}{a^{2}}\\right)^{3} + \\left(\\frac{27 d}{a} - \\frac{9 b c}{a^{2}} + \\frac{2 b^{3}}{a^{3}}\\right)^{2}}}{2} + \\frac{27 d}{2 a} - \\frac{9 b c}{2 a^{2}} + \\frac{b^{3}}{a^{3}}}}{3} - \\frac{b}{3 a}\\right\\}$"
          },
          "metadata": {},
          "execution_count": 60
        }
      ]
    },
    {
      "cell_type": "markdown",
      "metadata": {
        "id": "M_intuvBpbTE"
      },
      "source": [
        "В `solveset` можно передать больше аргументов, например, чтобы ограничить пространство решений. Давайте посмотрим, что представляет собой решение следующей задачи. $\\mathbb{R}$:\n",
        "\n",
        "$$x^2=-1$$"
      ]
    },
    {
      "cell_type": "code",
      "execution_count": 36,
      "metadata": {
        "id": "R62Zg5hbpbTE",
        "colab": {
          "base_uri": "https://localhost:8080/",
          "height": 37
        },
        "outputId": "808ddfdf-1b32-4a39-becd-3c41e3f56013"
      },
      "outputs": [
        {
          "output_type": "execute_result",
          "data": {
            "text/plain": [
              "∅"
            ],
            "text/latex": "$\\displaystyle \\emptyset$"
          },
          "metadata": {},
          "execution_count": 36
        }
      ],
      "source": [
        "sym.solveset(x ** 2 + 1, x, domain=sym.S.Reals)"
      ]
    },
    {
      "cell_type": "markdown",
      "metadata": {
        "id": "oWJ-CSKMpbTE"
      },
      "source": [
        "---\n",
        "** УПРАЖНЕНИЕ 3** Используйте Sympy, чтобы найти решения следующих уравнений:\n",
        "\n",
        "- $x ^ 2 == 2$ in $\\mathbb{N}$;\n",
        "- $x ^ 3 + 2 x = 0$ in $\\mathbb{R}$.\n",
        "\n",
        "---"
      ]
    },
    {
      "cell_type": "code",
      "source": [
        "x = sym.symbols('x')\n",
        "sym.solveset(x ** 2 - 2, x, domain=sym.S.Naturals)\n",
        "\n",
        "x = sym.symbols('x')\n",
        "sym.solveset(x ** 3 + 2 * x, x, domain=sym.S.Reals)"
      ],
      "metadata": {
        "colab": {
          "base_uri": "https://localhost:8080/",
          "height": 37
        },
        "id": "wqHTWPx392Jx",
        "outputId": "d4a3e547-5cb0-49bb-e975-a87090eef213"
      },
      "execution_count": 44,
      "outputs": [
        {
          "output_type": "execute_result",
          "data": {
            "text/plain": [
              "{0}"
            ],
            "text/latex": "$\\displaystyle \\left\\{0\\right\\}$"
          },
          "metadata": {},
          "execution_count": 44
        }
      ]
    },
    {
      "cell_type": "markdown",
      "metadata": {
        "id": "EugqmesOpbTE"
      },
      "source": [
        "## Символьное исчисление\n",
        "\n",
        "`Sympy` также используют для вычисления пределов. Давайте посчитаем:\n",
        "\n",
        "$$\\lim_{x\\to 0^+}\\frac{1}{x}$$"
      ]
    },
    {
      "cell_type": "code",
      "execution_count": 45,
      "metadata": {
        "id": "d8l0lFp1pbTE",
        "colab": {
          "base_uri": "https://localhost:8080/",
          "height": 37
        },
        "outputId": "0fa8e00a-f6f4-4acb-f537-d0df4d3d2677"
      },
      "outputs": [
        {
          "output_type": "execute_result",
          "data": {
            "text/plain": [
              "∞"
            ],
            "text/latex": "$\\displaystyle \\infty$"
          },
          "metadata": {},
          "execution_count": 45
        }
      ],
      "source": [
        "sym.limit(1/x, x, 0, dir=\"+\")"
      ]
    },
    {
      "cell_type": "markdown",
      "metadata": {
        "id": "XP_z2t2HpbTE"
      },
      "source": [
        "---\n",
        "**УПРАЖНЕНИЕ 4** Рассчитайте следующие пределы:\n",
        "\n",
        "1. $\\lim_{x\\to 0^-}\\frac{1}{x}$\n",
        "2.  $\\lim_{x\\to 0}\\frac{1}{x^2}$\n",
        "\n",
        "---"
      ]
    },
    {
      "cell_type": "code",
      "source": [
        "sym.limit(1/x, x, 0, dir=\"+\")"
      ],
      "metadata": {
        "colab": {
          "base_uri": "https://localhost:8080/",
          "height": 37
        },
        "id": "8nrWi7Nk_cRD",
        "outputId": "de242b1b-2d96-422d-f02a-454b2da748f7"
      },
      "execution_count": 50,
      "outputs": [
        {
          "output_type": "execute_result",
          "data": {
            "text/plain": [
              "∞"
            ],
            "text/latex": "$\\displaystyle \\infty$"
          },
          "metadata": {},
          "execution_count": 50
        }
      ]
    },
    {
      "cell_type": "markdown",
      "metadata": {
        "id": "FZhvlS-ppbTE"
      },
      "source": [
        "Можно использовать `Sympy` для дифференцирования и интегрирования.Продифференцируем следующее выражения:\n",
        "\n",
        "\n",
        "$$x ^ 2 - \\cos(x)$$"
      ]
    },
    {
      "cell_type": "code",
      "execution_count": 61,
      "metadata": {
        "id": "WIrkYMIxpbTE",
        "colab": {
          "base_uri": "https://localhost:8080/",
          "height": 39
        },
        "outputId": "9f33a6eb-b366-490a-a2b0-91f10b33bb99"
      },
      "outputs": [
        {
          "output_type": "execute_result",
          "data": {
            "text/plain": [
              "2⋅x + sin(x)"
            ],
            "text/latex": "$\\displaystyle 2 x + \\sin{\\left(x \\right)}$"
          },
          "metadata": {},
          "execution_count": 61
        }
      ],
      "source": [
        "sym.diff(x ** 2 - sym.cos(x), x)"
      ]
    },
    {
      "cell_type": "markdown",
      "metadata": {
        "id": "qzLBdGHEpbTE"
      },
      "source": [
        "Аналогично можно интегрировать:"
      ]
    },
    {
      "cell_type": "code",
      "execution_count": 62,
      "metadata": {
        "id": "Hx3OOuSOpbTE",
        "colab": {
          "base_uri": "https://localhost:8080/",
          "height": 54
        },
        "outputId": "ea34ba34-f024-465e-d517-17c24369e817"
      },
      "outputs": [
        {
          "output_type": "execute_result",
          "data": {
            "text/plain": [
              " 3         \n",
              "x          \n",
              "── - sin(x)\n",
              "3          "
            ],
            "text/latex": "$\\displaystyle \\frac{x^{3}}{3} - \\sin{\\left(x \\right)}$"
          },
          "metadata": {},
          "execution_count": 62
        }
      ],
      "source": [
        "sym.integrate(x ** 2 - sym.cos(x), x)"
      ]
    },
    {
      "cell_type": "markdown",
      "metadata": {
        "id": "g_B9lbFjpbTF"
      },
      "source": [
        "Включена возможность расчета определенных интегралов:"
      ]
    },
    {
      "cell_type": "code",
      "execution_count": null,
      "metadata": {
        "id": "PazFpwn4pbTF"
      },
      "outputs": [],
      "source": [
        "sym.integrate(x ** 2 - sym.cos(x), (x, 0, 5))"
      ]
    },
    {
      "cell_type": "markdown",
      "metadata": {
        "id": "TQ_fuWDkpbTF"
      },
      "source": [
        "---\n",
        "\n",
        "**УПРАЖНЕНИЕ 5** Используйте Sympy, чтобы рассчитать следующие выражения:\n",
        "\n",
        "1. $\\frac{d\\sin(x ^2)}{dx}$\n",
        "2. $\\frac{d(x ^2 + xy - \\ln(y))}{dy}$\n",
        "3. $\\int e^x \\cos(x)\\;dx$\n",
        "4. $\\int_0^5 e^{2x}\\;dx$"
      ]
    },
    {
      "cell_type": "code",
      "source": [
        "sym.integrate(sym.exp(x) * sym.cos(x), x)\n",
        "sym.integrate(sym.exp(2*x), (x, 0, 5))"
      ],
      "metadata": {
        "colab": {
          "base_uri": "https://localhost:8080/",
          "height": 54
        },
        "id": "AorI3ahwDNvY",
        "outputId": "d7016956-0a7e-42c0-fb38-267255b86519"
      },
      "execution_count": 70,
      "outputs": [
        {
          "output_type": "execute_result",
          "data": {
            "text/plain": [
              "       10\n",
              "  1   ℯ  \n",
              "- ─ + ───\n",
              "  2    2 "
            ],
            "text/latex": "$\\displaystyle - \\frac{1}{2} + \\frac{e^{10}}{2}$"
          },
          "metadata": {},
          "execution_count": 70
        }
      ]
    },
    {
      "cell_type": "code",
      "source": [],
      "metadata": {
        "colab": {
          "base_uri": "https://localhost:8080/",
          "height": 39
        },
        "id": "KY973cCZDf5o",
        "outputId": "6bf0ee85-9b59-4e97-a7ff-50f1079e3f57"
      },
      "execution_count": 71,
      "outputs": [
        {
          "output_type": "execute_result",
          "data": {
            "text/plain": [
              " 2    2\n",
              "a  - b "
            ],
            "text/latex": "$\\displaystyle a^{2} - b^{2}$"
          },
          "metadata": {},
          "execution_count": 71
        }
      ]
    },
    {
      "cell_type": "markdown",
      "metadata": {
        "id": "TDANPQNEpbTF"
      },
      "source": [
        "## Построение графика с помощью Sympy\n",
        "\n",
        "Наконец, `Sympy` можно использовать для построения графиков функций. Обратите внимание, что здесь используется другая библиотека Python под названием [matplotlib](http://matplotlib.org/). Хотя `Sympy` позволяет  не использовать `matplotlib`` напрямую, порой, требуется пользоваться данной библиотекой для более детального построения.\n",
        "\n",
        "Прежде чем рисовать графики в `Jupyter`, требуется запустить команду, чтобы он отображал графики прямо в блокноте:"
      ]
    },
    {
      "cell_type": "code",
      "execution_count": 63,
      "metadata": {
        "id": "ezoJ8mVWpbTI"
      },
      "outputs": [],
      "source": [
        "%matplotlib inline"
      ]
    },
    {
      "cell_type": "markdown",
      "metadata": {
        "id": "mtbJaonxpbTI"
      },
      "source": [
        "Let us plot $x^2$:"
      ]
    },
    {
      "cell_type": "code",
      "execution_count": 64,
      "metadata": {
        "tags": [
          "nbval-ignore-output"
        ],
        "id": "mRCK1EcCpbTJ",
        "colab": {
          "base_uri": "https://localhost:8080/",
          "height": 484
        },
        "outputId": "901face3-a8d3-4202-cee8-9bc233b752d4"
      },
      "outputs": [
        {
          "output_type": "display_data",
          "data": {
            "text/plain": [
              "<Figure size 640x480 with 1 Axes>"
            ],
            "image/png": "[encoded data removed]"
          },
          "metadata": {}
        }
      ],
      "source": [
        "expr = x ** 2\n",
        "p = sym.plot(expr);"
      ]
    },
    {
      "cell_type": "markdown",
      "metadata": {
        "id": "Kky2EOEEpbTJ"
      },
      "source": [
        "Можно напрямую сохранить этот график в файл:"
      ]
    },
    {
      "cell_type": "code",
      "execution_count": 53,
      "metadata": {
        "tags": [
          "nbval-ignore-output"
        ],
        "id": "tIUtfkvppbTJ",
        "colab": {
          "base_uri": "https://localhost:8080/",
          "height": 433
        },
        "outputId": "2c36e810-a1f0-47b9-f27b-43090dad93ad"
      },
      "outputs": [
        {
          "output_type": "display_data",
          "data": {
            "text/plain": [
              "<Figure size 640x480 with 1 Axes>"
            ],
            "image/png": "[encoded data removed]"
          },
          "metadata": {}
        }
      ],
      "source": [
        "p.save(\"x_squared.pdf\");"
      ]
    },
    {
      "cell_type": "markdown",
      "metadata": {
        "id": "D5mv8sDXpbTJ"
      },
      "source": [
        "---\n",
        "**УПРАЖНЕНИЕ 6** Постройте графики следующих функций:\n",
        "\n",
        "- $y=x + cos(x)$\n",
        "- $y=x ^ 2 - e^x$ (вам может пригодиться `ylim` в качестве аргумента)\n",
        "\n",
        "Поэкспериментируйте с сохранением графиков в файл.."
      ]
    },
    {
      "cell_type": "code",
      "source": [
        "expr=x+sym.cos(x)\n",
        "p=sym.plot(expr)"
      ],
      "metadata": {
        "colab": {
          "base_uri": "https://localhost:8080/",
          "height": 486
        },
        "id": "5BnyWWHM1kLq",
        "outputId": "60e19b2e-9da0-4f6b-ad7d-a36e59c095cd"
      },
      "execution_count": 68,
      "outputs": [
        {
          "output_type": "display_data",
          "data": {
            "text/plain": [
              "<Figure size 640x480 with 1 Axes>"
            ],
            "image/png": "[encoded data removed]"
          },
          "metadata": {}
        }
      ]
    },
    {
      "cell_type": "code",
      "source": [
        "expr=x**2-sym.lin*X\n",
        "p=sym.plot(expr)"
      ],
      "metadata": {
        "colab": {
          "base_uri": "https://localhost:8080/",
          "height": 192
        },
        "id": "tN_zvcS0BxHn",
        "outputId": "b1bb6094-3a7f-4c96-d12f-f22acb8372c7"
      },
      "execution_count": 69,
      "outputs": [
        {
          "output_type": "error",
          "ename": "AttributeError",
          "evalue": "ignored",
          "traceback": [
            "\u001b[0;31m---------------------------------------------------------------------------\u001b[0m",
            "\u001b[0;31mAttributeError\u001b[0m                            Traceback (most recent call last)",
            "\u001b[0;32m<ipython-input-69-f89d08c3ab00>\u001b[0m in \u001b[0;36m<cell line: 1>\u001b[0;34m()\u001b[0m\n\u001b[0;32m----> 1\u001b[0;31m \u001b[0mexpr\u001b[0m\u001b[0;34m=\u001b[0m\u001b[0mx\u001b[0m\u001b[0;34m**\u001b[0m\u001b[0;36m2\u001b[0m\u001b[0;34m-\u001b[0m\u001b[0msym\u001b[0m\u001b[0;34m.\u001b[0m\u001b[0mlin\u001b[0m\u001b[0;34m*\u001b[0m\u001b[0mX\u001b[0m\u001b[0;34m\u001b[0m\u001b[0;34m\u001b[0m\u001b[0m\n\u001b[0m\u001b[1;32m      2\u001b[0m \u001b[0mp\u001b[0m\u001b[0;34m=\u001b[0m\u001b[0msym\u001b[0m\u001b[0;34m.\u001b[0m\u001b[0mplot\u001b[0m\u001b[0;34m(\u001b[0m\u001b[0mexpr\u001b[0m\u001b[0;34m)\u001b[0m\u001b[0;34m\u001b[0m\u001b[0;34m\u001b[0m\u001b[0m\n",
            "\u001b[0;31mAttributeError\u001b[0m: module 'sympy' has no attribute 'lin'"
          ]
        }
      ]
    }
  ],
  "metadata": {
    "anaconda-cloud": {},
    "celltoolbar": "Tags",
    "kernelspec": {
      "display_name": "Python [conda env:mwp]",
      "language": "python",
      "name": "conda-env-mwp-py"
    },
    "language_info": {
      "codemirror_mode": {
        "name": "ipython",
        "version": 3
      },
      "file_extension": ".py",
      "mimetype": "text/x-python",
      "name": "python",
      "nbconvert_exporter": "python",
      "pygments_lexer": "ipython3",
      "version": "3.7.0"
    },
    "colab": {
      "provenance": [],
      "include_colab_link": true
    }
  },
  "nbformat": 4,
  "nbformat_minor": 0
}