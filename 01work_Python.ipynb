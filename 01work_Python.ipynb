{
  "nbformat": 4,
  "nbformat_minor": 0,
  "metadata": {
    "colab": {
      "provenance": [],
      "authorship_tag": "ABX9TyPchCWmH/FKlT6lAhjyZh/4",
      "include_colab_link": true
    },
    "kernelspec": {
      "name": "python3",
      "display_name": "Python 3"
    },
    "language_info": {
      "name": "python"
    }
  },
  "cells": [
    {
      "cell_type": "markdown",
      "metadata": {
        "id": "view-in-github",
        "colab_type": "text"
      },
      "source": [
        "<a href=\"https://colab.research.google.com/github/MikeRuz551/PythonDA/blob/main/01work_Python.ipynb\" target=\"_parent\"><img src=\"https://colab.research.google.com/assets/colab-badge.svg\" alt=\"Open In Colab\"/></a>"
      ]
    },
    {
      "cell_type": "code",
      "source": [
        "# Задание 1.\n",
        "name='Соловьев Михаил Евгеньевич'\n",
        "for letter in name:\n",
        "  print(letter)"
      ],
      "metadata": {
        "id": "2G1xSb8dyNcv"
      },
      "execution_count": null,
      "outputs": []
    },
    {
      "cell_type": "code",
      "source": [
        "# Задание 2.\n",
        "def rub_in_jpy(rub):\n",
        "  return rub * 1.55\n",
        "\n",
        "print(rub_in_jpy(1))"
      ],
      "metadata": {
        "id": "hv0QhF98M5_w"
      },
      "execution_count": null,
      "outputs": []
    }
  ]
}