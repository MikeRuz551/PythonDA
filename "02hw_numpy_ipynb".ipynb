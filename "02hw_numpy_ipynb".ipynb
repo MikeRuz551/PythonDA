{
  "cells": [
    {
      "cell_type": "markdown",
      "metadata": {
        "id": "view-in-github",
        "colab_type": "text"
      },
      "source": [
        "<a href=\"https://colab.research.google.com/github/MikeRuz551/PythonDA/blob/main/%2202hw_numpy_ipynb%22.ipynb\" target=\"_parent\"><img src=\"https://colab.research.google.com/assets/colab-badge.svg\" alt=\"Open In Colab\"/></a>"
      ]
    },
    {
      "cell_type": "markdown",
      "metadata": {
        "id": "IpZBI3q1PJdT"
      },
      "source": [
        "# Самостоятельная работа 2. Numpy\n",
        "\n",
        "1. Скачайте этот ноутбук к себе.\n",
        "2. Заполните пропущенные ячейки, отвечая на заданные вопросы. Там должен быть код! (если не сказано обратное)\n",
        "3. Сохраните результат в своём гитхаб репозитории.\n",
        "\n",
        "#### Полезная литература\n",
        "\n",
        "- http://www.numpy.org/\n",
        "- https://jakevdp.github.io/PythonDataScienceHandbook/02.00-introduction-to-numpy.html\n",
        "- https://docs.scipy.org/doc/numpy/user/quickstart.html"
      ]
    },
    {
      "cell_type": "markdown",
      "metadata": {
        "id": "VerRRdlAPJdZ"
      },
      "source": [
        "1) Импортировать numpy и написать версию"
      ]
    },
    {
      "cell_type": "code",
      "execution_count": null,
      "metadata": {
        "id": "CeSfut_GPJda"
      },
      "outputs": [],
      "source": [
        "import numpy as np\n",
        "np.__version__"
      ]
    },
    {
      "cell_type": "markdown",
      "metadata": {
        "id": "1bGOP6s1PJdb"
      },
      "source": [
        "2) Создать нулевой вектор размера 10"
      ]
    },
    {
      "cell_type": "code",
      "execution_count": null,
      "metadata": {
        "id": "jD7cV9h2PJdb"
      },
      "outputs": [],
      "source": [
        "np.zeros(10, dtype=int)"
      ]
    },
    {
      "cell_type": "markdown",
      "metadata": {
        "id": "1vm7aX_MPJdb"
      },
      "source": [
        "3) Создать вектор заполненный 7-ами размера 7"
      ]
    },
    {
      "cell_type": "code",
      "execution_count": null,
      "metadata": {
        "id": "JWsedVbFPJdb"
      },
      "outputs": [],
      "source": [
        "np.full(7,7)"
      ]
    },
    {
      "cell_type": "markdown",
      "metadata": {
        "id": "Sd7zUWP6PJdb"
      },
      "source": [
        "4) Создать вектор заполненный четными числами от 10 до 100"
      ]
    },
    {
      "cell_type": "code",
      "execution_count": null,
      "metadata": {
        "id": "ULfATBIpPJdc"
      },
      "outputs": [],
      "source": [
        "np.arange(10,101,2)"
      ]
    },
    {
      "cell_type": "markdown",
      "metadata": {
        "id": "5vzx2YlgPJdc"
      },
      "source": [
        "5) Создать массив случайных чисел и развернуть его задом наперёд"
      ]
    },
    {
      "cell_type": "code",
      "execution_count": null,
      "metadata": {
        "id": "2JDZsHvePJdc"
      },
      "outputs": [],
      "source": [
        "np.random.randn(3,3)[::-1]"
      ]
    },
    {
      "cell_type": "markdown",
      "metadata": {
        "id": "N2dSGOmCPJdc"
      },
      "source": [
        "6) Создать двумерную матрицу размера 3 на 3, заполненную числами от 0 до 9"
      ]
    },
    {
      "cell_type": "code",
      "execution_count": null,
      "metadata": {
        "id": "eADanFD0PJdc"
      },
      "outputs": [],
      "source": [
        "np.arange(9).reshape((3,3))"
      ]
    },
    {
      "cell_type": "markdown",
      "metadata": {
        "id": "UDKDBjB9PJdd"
      },
      "source": [
        "7) Создать матрицу размера 4 на 4 с единицами на диагонали смещеной на один наверх."
      ]
    },
    {
      "cell_type": "code",
      "execution_count": null,
      "metadata": {
        "id": "wItKbneqPJdd"
      },
      "outputs": [],
      "source": [
        "np.eye(4, k=1, dtype=int)"
      ]
    },
    {
      "cell_type": "markdown",
      "metadata": {
        "id": "PU03vDe-PJdd"
      },
      "source": [
        "8) Создать матрицу с числами в диапазоне от 1 до 4 по диагонали. В других ячейках матрицы должны быть семерки."
      ]
    },
    {
      "cell_type": "code",
      "execution_count": 14,
      "metadata": {
        "id": "X96_QWGGPJdd",
        "colab": {
          "base_uri": "https://localhost:8080/"
        },
        "outputId": "440f4acf-91ef-4b55-eae8-bf49ff57fe38"
      },
      "outputs": [
        {
          "output_type": "execute_result",
          "data": {
            "text/plain": [
              "array([[1, 7, 7, 7],\n",
              "       [7, 2, 7, 7],\n",
              "       [7, 7, 3, 7],\n",
              "       [7, 7, 7, 4]])"
            ]
          },
          "metadata": {},
          "execution_count": 14
        }
      ],
      "source": [
        "7 - np.identity(4, dtype=int) * 7 + np.diag([i for i in range(1, 5)])"
      ]
    },
    {
      "cell_type": "markdown",
      "metadata": {
        "id": "JnsS-eclPJdd"
      },
      "source": [
        "9) Создать матрицу размера 5 на 5 заполненную чилами от 0 до 4 в строках."
      ]
    },
    {
      "cell_type": "code",
      "execution_count": 17,
      "metadata": {
        "id": "fQktE80FPJdd",
        "colab": {
          "base_uri": "https://localhost:8080/"
        },
        "outputId": "680eb0f0-84d8-4a01-f3f7-173f24a92bf8"
      },
      "outputs": [
        {
          "output_type": "execute_result",
          "data": {
            "text/plain": [
              "array([[0, 1, 2, 3, 4],\n",
              "       [0, 1, 2, 3, 4],\n",
              "       [0, 1, 2, 3, 4],\n",
              "       [0, 1, 2, 3, 4],\n",
              "       [0, 1, 2, 3, 4]])"
            ]
          },
          "metadata": {},
          "execution_count": 17
        }
      ],
      "source": [
        "arr = np.zeros((5,5),dtype=int)\n",
        "arr + np.arange(5)"
      ]
    },
    {
      "cell_type": "markdown",
      "metadata": {
        "id": "psvpF2mZPJdd"
      },
      "source": [
        "10) Создать матрицу случайных чисел размера 10 на 10 и отнять среднее по строкам из каждого элемента строки"
      ]
    },
    {
      "cell_type": "code",
      "execution_count": 21,
      "metadata": {
        "id": "N5UWDDykPJde",
        "colab": {
          "base_uri": "https://localhost:8080/"
        },
        "outputId": "21ba63f5-0dde-4a67-9a56-b6a5d22349f5"
      },
      "outputs": [
        {
          "output_type": "execute_result",
          "data": {
            "text/plain": [
              "array([[ 1.68729081, -0.11642709,  0.71679477,  0.0626736 , -1.4405278 ,\n",
              "         0.48232124, -0.44030875, -0.33761453,  0.5660252 , -1.18022744],\n",
              "       [ 0.36937017, -0.3927015 , -0.14083809, -0.38465557, -0.32305342,\n",
              "        -1.51899937, -0.15441993,  1.91522815,  0.60780479,  0.02226477],\n",
              "       [ 0.72464892,  1.41095095, -0.55282575,  1.74285162, -1.96703426,\n",
              "         0.13150754,  0.68885155,  0.18063502, -0.55047252, -1.80911308],\n",
              "       [ 1.37677311,  1.15617781, -0.08082384, -0.46539415, -0.43938875,\n",
              "        -0.36167646, -1.31245351,  0.40986874,  0.09366938, -0.37675234],\n",
              "       [-0.88129022, -0.81912577,  1.04645353, -0.38382113,  0.84302585,\n",
              "        -0.22407924,  1.70060409, -1.96661646,  0.59569781,  0.08915155],\n",
              "       [-0.14792744, -0.52711461,  2.48970456,  0.25579665, -1.0403793 ,\n",
              "        -1.64375791, -0.2869105 , -0.66900691, -0.41378717,  1.98338262],\n",
              "       [ 1.24844067, -0.07578852, -0.74709903, -1.53451129,  0.60574025,\n",
              "        -0.71851942,  1.0668201 , -0.60541129,  1.34507368, -0.58474514],\n",
              "       [ 0.35819946,  0.77806995,  0.29663317, -0.76440532, -0.23080934,\n",
              "        -0.23711506, -0.63185521,  0.6877433 , -0.06841381, -0.18804715],\n",
              "       [-0.90960148, -1.21308375,  0.54208766,  0.16785263, -0.38863842,\n",
              "         0.65393619, -0.22718856,  1.90195258, -0.58883769,  0.06152084],\n",
              "       [ 1.96746709, -0.2739752 ,  0.01454558,  1.4416424 , -0.13133178,\n",
              "        -0.70855652,  0.31500889, -0.73523248, -2.08136748,  0.19179949]])"
            ]
          },
          "metadata": {},
          "execution_count": 21
        }
      ],
      "source": [
        "arr=np.random.randn (10,10)\n",
        "arr-np.mean (arr,axis=1, keepdims=True)"
      ]
    },
    {
      "cell_type": "markdown",
      "metadata": {
        "id": "YyW7m_2nPJde"
      },
      "source": [
        "11) Создать матрицу случайных чисел размера 10 на 10 и отнять медиану по столбцам из каждого элемента столбца  "
      ]
    },
    {
      "cell_type": "code",
      "execution_count": null,
      "metadata": {
        "id": "zZhLDh37PJde"
      },
      "outputs": [],
      "source": [
        "arr=np.random.randn(10,10)\n",
        "arr-np.median (arr, axis=0)\n"
      ]
    },
    {
      "cell_type": "markdown",
      "metadata": {
        "id": "MIvZAo26PJde"
      },
      "source": [
        "12) Создать матрицу случайных чисел 5x5. Добавить к ней столбецы максимумов и минимумов по строкам. Получится матрица 5x7.  "
      ]
    },
    {
      "cell_type": "code",
      "execution_count": 27,
      "metadata": {
        "id": "pNHnvIAIPJde",
        "colab": {
          "base_uri": "https://localhost:8080/"
        },
        "outputId": "482b1465-bbf2-4406-ffe7-da48bd6c87a7"
      },
      "outputs": [
        {
          "output_type": "execute_result",
          "data": {
            "text/plain": [
              "array([[-1.45874056,  0.22275952, -0.72485403, -0.71860623,  0.97835371,\n",
              "         0.97835371, -1.45874056],\n",
              "       [ 0.69061199, -0.80638094, -0.74543069, -0.66568672, -1.96580527,\n",
              "         0.69061199, -1.96580527],\n",
              "       [-0.26604984,  0.28532221, -0.53465862, -2.14037455, -0.76035246,\n",
              "         0.28532221, -2.14037455],\n",
              "       [-0.75403076,  0.07930791, -2.13882042,  0.78382282,  1.77521331,\n",
              "         1.77521331, -2.13882042],\n",
              "       [ 0.68873013,  1.19368975,  0.28994046,  0.18511593,  1.52079714,\n",
              "         1.52079714,  0.18511593]])"
            ]
          },
          "metadata": {},
          "execution_count": 27
        }
      ],
      "source": [
        "arr=np.random.randn(5,5)\n",
        "np.concatenate((arr, np.max(arr, axis=1,keepdims=True),np.min(arr, axis=1,keepdims=True)),axis=1)"
      ]
    },
    {
      "cell_type": "markdown",
      "metadata": {
        "id": "I2yzhp8ePJde"
      },
      "source": [
        "13) Вектор чисел от 1 до 51 преобразовать в вектор нечетных чисел и в вектор четных чисел, поменять их размерности, чтобы получились две матрица. Найти произведение этих матриц. Найти обратную матрицу эётого произведения.  "
      ]
    },
    {
      "cell_type": "code",
      "execution_count": 28,
      "metadata": {
        "id": "e5JmqWuSPJdf",
        "colab": {
          "base_uri": "https://localhost:8080/",
          "height": 340
        },
        "outputId": "775ba2cb-f216-4f30-f134-5ee1d924925f"
      },
      "outputs": [
        {
          "output_type": "error",
          "ename": "AttributeError",
          "evalue": "ignored",
          "traceback": [
            "\u001b[0;31m---------------------------------------------------------------------------\u001b[0m",
            "\u001b[0;31mAttributeError\u001b[0m                            Traceback (most recent call last)",
            "\u001b[0;32m<ipython-input-28-fecd1a7b71fa>\u001b[0m in \u001b[0;36m<cell line: 4>\u001b[0;34m()\u001b[0m\n\u001b[1;32m      2\u001b[0m \u001b[0modd\u001b[0m\u001b[0;34m=\u001b[0m\u001b[0marr\u001b[0m\u001b[0;34m[\u001b[0m\u001b[0;34m:\u001b[0m\u001b[0;34m:\u001b[0m\u001b[0;36m2\u001b[0m\u001b[0;34m]\u001b[0m\u001b[0;34m.\u001b[0m\u001b[0mreshape\u001b[0m\u001b[0;34m(\u001b[0m\u001b[0;36m5\u001b[0m\u001b[0;34m,\u001b[0m\u001b[0;36m5\u001b[0m\u001b[0;34m)\u001b[0m\u001b[0;34m\u001b[0m\u001b[0;34m\u001b[0m\u001b[0m\n\u001b[1;32m      3\u001b[0m \u001b[0meven\u001b[0m\u001b[0;34m=\u001b[0m\u001b[0marr\u001b[0m\u001b[0;34m[\u001b[0m\u001b[0;36m1\u001b[0m\u001b[0;34m:\u001b[0m\u001b[0;34m:\u001b[0m\u001b[0;36m2\u001b[0m\u001b[0;34m]\u001b[0m\u001b[0;34m.\u001b[0m\u001b[0mreshape\u001b[0m\u001b[0;34m(\u001b[0m\u001b[0;36m5\u001b[0m\u001b[0;34m,\u001b[0m\u001b[0;36m5\u001b[0m\u001b[0;34m)\u001b[0m\u001b[0;34m\u001b[0m\u001b[0;34m\u001b[0m\u001b[0m\n\u001b[0;32m----> 4\u001b[0;31m \u001b[0mnp\u001b[0m\u001b[0;34m.\u001b[0m\u001b[0mlinalg\u001b[0m\u001b[0;34m.\u001b[0m\u001b[0minv\u001b[0m\u001b[0;34m(\u001b[0m\u001b[0mnp\u001b[0m\u001b[0;34m.\u001b[0m\u001b[0mmatml\u001b[0m\u001b[0;34m(\u001b[0m\u001b[0modd\u001b[0m\u001b[0;34m,\u001b[0m\u001b[0meven\u001b[0m\u001b[0;34m)\u001b[0m\u001b[0;34m)\u001b[0m\u001b[0;34m\u001b[0m\u001b[0;34m\u001b[0m\u001b[0m\n\u001b[0m",
            "\u001b[0;32m/usr/local/lib/python3.10/dist-packages/numpy/__init__.py\u001b[0m in \u001b[0;36m__getattr__\u001b[0;34m(attr)\u001b[0m\n\u001b[1;32m    309\u001b[0m             \u001b[0;32mreturn\u001b[0m \u001b[0mTester\u001b[0m\u001b[0;34m\u001b[0m\u001b[0;34m\u001b[0m\u001b[0m\n\u001b[1;32m    310\u001b[0m \u001b[0;34m\u001b[0m\u001b[0m\n\u001b[0;32m--> 311\u001b[0;31m         raise AttributeError(\"module {!r} has no attribute \"\n\u001b[0m\u001b[1;32m    312\u001b[0m                              \"{!r}\".format(__name__, attr))\n\u001b[1;32m    313\u001b[0m \u001b[0;34m\u001b[0m\u001b[0m\n",
            "\u001b[0;31mAttributeError\u001b[0m: module 'numpy' has no attribute 'matml'"
          ]
        }
      ],
      "source": [
        "arr=np.arange(1,51)\n",
        "odd=arr[::2].reshape(5,5)\n",
        "even=arr[1::2].reshape(5,5)\n",
        "np.linalg.inv(np.matml(odd,even))"
      ]
    },
    {
      "cell_type": "markdown",
      "metadata": {
        "id": "0vL3M7pRPJdf"
      },
      "source": [
        "14) Создать 8x8 матрицу и заполнить её в шахматном порядке нулями и единицами."
      ]
    },
    {
      "cell_type": "code",
      "execution_count": 32,
      "metadata": {
        "id": "00SMjnyUPJdf",
        "colab": {
          "base_uri": "https://localhost:8080/"
        },
        "outputId": "298f8228-9ec0-4a9f-f5cc-fc4a80e1a6a0"
      },
      "outputs": [
        {
          "output_type": "execute_result",
          "data": {
            "text/plain": [
              "array([[1, 0, 1, 0, 1, 0, 1, 0],\n",
              "       [0, 1, 0, 1, 0, 1, 0, 1],\n",
              "       [1, 0, 1, 0, 1, 0, 1, 0],\n",
              "       [0, 1, 0, 1, 0, 1, 0, 1],\n",
              "       [1, 0, 1, 0, 1, 0, 1, 0],\n",
              "       [0, 1, 0, 1, 0, 1, 0, 1],\n",
              "       [1, 0, 1, 0, 1, 0, 1, 0],\n",
              "       [0, 1, 0, 1, 0, 1, 0, 1]])"
            ]
          },
          "metadata": {},
          "execution_count": 32
        }
      ],
      "source": [
        "arr=np.zeros((8,8),dtype=int)\n",
        "arr[::2,::2]=1\n",
        "arr[1::2,1::2]=1\n",
        "arr"
      ]
    }
  ],
  "metadata": {
    "kernelspec": {
      "display_name": "Python 3",
      "language": "python",
      "name": "python3"
    },
    "language_info": {
      "codemirror_mode": {
        "name": "ipython",
        "version": 3
      },
      "file_extension": ".py",
      "mimetype": "text/x-python",
      "name": "python",
      "nbconvert_exporter": "python",
      "pygments_lexer": "ipython3",
      "version": "3.8.0"
    },
    "colab": {
      "provenance": [],
      "include_colab_link": true
    }
  },
  "nbformat": 4,
  "nbformat_minor": 0
}